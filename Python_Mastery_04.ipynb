{
  "nbformat": 4,
  "nbformat_minor": 0,
  "metadata": {
    "colab": {
      "provenance": []
    },
    "kernelspec": {
      "name": "python3",
      "display_name": "Python 3"
    },
    "language_info": {
      "name": "python"
    }
  },
  "cells": [
    {
      "cell_type": "markdown",
      "source": [
        "#Functional Programming\n",
        "\n",
        "*   Clear + Understandable\n",
        "*   Eazy to Extend\n",
        "*   Easy to Maintain   \n",
        "*   Memory Efficient\n",
        "*   DRY\n",
        "   \n",
        "\n",
        "Functional Programming Pillar\n",
        "\n",
        "*Pure Function"
      ],
      "metadata": {
        "id": "NJce85HWSmtR"
      }
    },
    {
      "cell_type": "markdown",
      "source": [
        "#Pure Function\n",
        "\n",
        "two rules\n",
        "*   Insert 3 input it will always display the same output\n",
        "*   Should not produce side effect\n",
        "\n"
      ],
      "metadata": {
        "id": "oyLa0ZjfUABT"
      }
    },
    {
      "cell_type": "markdown",
      "source": [
        "Pure Function"
      ],
      "metadata": {
        "id": "0-JXUG_WXdf_"
      }
    },
    {
      "cell_type": "code",
      "execution_count": null,
      "metadata": {
        "colab": {
          "base_uri": "https://localhost:8080/"
        },
        "id": "9DtcBawAQA_0",
        "outputId": "4dd29838-5df2-4a57-db79-416642ffe22b"
      },
      "outputs": [
        {
          "output_type": "stream",
          "name": "stdout",
          "text": [
            "[2, 4, 6]\n"
          ]
        }
      ],
      "source": [
        "def multiply_by2(li):\n",
        "  new_list = []\n",
        "  for item in li:\n",
        "    new_list.append(item*2)\n",
        "  return new_list #dont have side affect (no print)\n",
        "\n",
        "print(multiply_by2([1,2,3]))\n"
      ]
    },
    {
      "cell_type": "markdown",
      "source": [
        "Not Pure Functions"
      ],
      "metadata": {
        "id": "r2k6yAiZXgqU"
      }
    },
    {
      "cell_type": "code",
      "source": [
        "def multiply_by2(li):\n",
        "  new_list = []\n",
        "  for item in li:\n",
        "    new_list.append(item*2)\n",
        "  return print(new_list) #it has side affect (due print: it affects other terminal or outside the function!!!)\n",
        "\n",
        "multiply_by2([1,2,3])"
      ],
      "metadata": {
        "id": "TD_4i191VXlf",
        "colab": {
          "base_uri": "https://localhost:8080/"
        },
        "outputId": "8d4799f2-abbf-449a-9c15-7cc034027274"
      },
      "execution_count": null,
      "outputs": [
        {
          "output_type": "stream",
          "name": "stdout",
          "text": [
            "[2, 4, 6]\n"
          ]
        }
      ]
    },
    {
      "cell_type": "code",
      "source": [
        "new_list = [] #it affects the outside world or side effects the output\n",
        "def multiply_by2(li):\n",
        "  for item in li:\n",
        "    new_list.append(item*2)\n",
        "  return new_list\n",
        "\n",
        "#new_list =''   #it affects the outside world or side effects the output\n",
        "multiply_by2([1,2,3])"
      ],
      "metadata": {
        "colab": {
          "base_uri": "https://localhost:8080/"
        },
        "id": "f0Y8ZjimV56K",
        "outputId": "5db1fad9-18f4-4101-8a81-8d96031a0915"
      },
      "execution_count": null,
      "outputs": [
        {
          "output_type": "execute_result",
          "data": {
            "text/plain": [
              "[2, 4, 6]"
            ]
          },
          "metadata": {},
          "execution_count": 3
        }
      ]
    },
    {
      "cell_type": "markdown",
      "source": [
        "#map()"
      ],
      "metadata": {
        "id": "_6tg548aXAwh"
      }
    },
    {
      "cell_type": "code",
      "source": [
        "def multiply_by2(item):\n",
        "  return item * 2\n",
        "\n",
        "#map will provide or the function list\n",
        "#automatic loop for multiplication distribution for 1,2,3\n",
        "\n",
        "print(list(map(multiply_by2,[1,2,3]))) #"
      ],
      "metadata": {
        "colab": {
          "base_uri": "https://localhost:8080/"
        },
        "id": "Qt1TN5ndVqJr",
        "outputId": "0f976695-33bc-42dd-d3a3-380b8d44e649"
      },
      "execution_count": null,
      "outputs": [
        {
          "output_type": "stream",
          "name": "stdout",
          "text": [
            "[2, 4, 6]\n"
          ]
        }
      ]
    },
    {
      "cell_type": "code",
      "source": [
        "my_list = [1,2,3]\n",
        "\n",
        "def multiply_by2(item):\n",
        "  return item * 2\n",
        "print(list(map(multiply_by2,[1,2,3])))\n",
        "print(my_list)"
      ],
      "metadata": {
        "colab": {
          "base_uri": "https://localhost:8080/"
        },
        "id": "x0ev4IIDa_t0",
        "outputId": "a5b0ee19-cd7c-41e5-b9d3-deb0584b8b11"
      },
      "execution_count": null,
      "outputs": [
        {
          "output_type": "stream",
          "name": "stdout",
          "text": [
            "[2, 4, 6]\n",
            "[1, 2, 3]\n"
          ]
        }
      ]
    },
    {
      "cell_type": "markdown",
      "source": [
        "#filter()\n",
        "specify needed items in the list"
      ],
      "metadata": {
        "id": "70TR92yAbT4h"
      }
    },
    {
      "cell_type": "code",
      "source": [
        "my_list = [1,2,3]\n",
        "def check_odd(item):\n",
        "  return item % 2  != 0\n",
        "\n"
      ],
      "metadata": {
        "id": "9TKtP-uNbTni"
      },
      "execution_count": null,
      "outputs": []
    },
    {
      "cell_type": "code",
      "source": [
        "print(list(filter(check_odd, my_list)))"
      ],
      "metadata": {
        "colab": {
          "base_uri": "https://localhost:8080/"
        },
        "id": "dbXAhFi5iXz2",
        "outputId": "d349d731-f5b3-48c9-a926-108e0c161463"
      },
      "execution_count": null,
      "outputs": [
        {
          "output_type": "stream",
          "name": "stdout",
          "text": [
            "[1, 3]\n"
          ]
        }
      ]
    },
    {
      "cell_type": "markdown",
      "source": [
        "#zip()\n",
        " zip them together in index"
      ],
      "metadata": {
        "id": "qKebQShyizTu"
      }
    },
    {
      "cell_type": "code",
      "source": [
        "my_list = [1,2,3]\n",
        "your_list = [10, 20, 30]\n",
        "print(list(zip(my_list ,your_list)))\n"
      ],
      "metadata": {
        "colab": {
          "base_uri": "https://localhost:8080/"
        },
        "id": "OydrrxZTjLH1",
        "outputId": "b84d5216-b35b-4242-9263-b9c2ac20d77c"
      },
      "execution_count": null,
      "outputs": [
        {
          "output_type": "stream",
          "name": "stdout",
          "text": [
            "[(1, 10), (2, 20), (3, 30)]\n"
          ]
        }
      ]
    },
    {
      "cell_type": "code",
      "source": [
        "my_list = [1,2,3]\n",
        "your_list = (10, 20, 30)\n",
        "their_list = (5, 4, 3)\n",
        "print(list(zip(my_list ,your_list, their_list)))"
      ],
      "metadata": {
        "colab": {
          "base_uri": "https://localhost:8080/"
        },
        "id": "XsTE7QMNlBNN",
        "outputId": "c7ccb38a-ed08-40f2-936b-e907b0e2ba44"
      },
      "execution_count": null,
      "outputs": [
        {
          "output_type": "stream",
          "name": "stdout",
          "text": [
            "[(1, 10, 5), (2, 20, 4), (3, 30, 3)]\n"
          ]
        }
      ]
    },
    {
      "cell_type": "markdown",
      "source": [
        "#reduce()"
      ],
      "metadata": {
        "id": "p0HuZhjulGel"
      }
    },
    {
      "cell_type": "code",
      "source": [
        "from functools import reduce"
      ],
      "metadata": {
        "id": "aGemk_l8lIyt"
      },
      "execution_count": null,
      "outputs": []
    },
    {
      "cell_type": "code",
      "source": [
        "my_list = [1,2,3]\n",
        "\n",
        "def accumulator(acc, item):\n",
        "    print(acc,item)\n",
        "    return acc + item\n",
        "print(reduce(accumulator,my_list, 0))"
      ],
      "metadata": {
        "colab": {
          "base_uri": "https://localhost:8080/"
        },
        "id": "g9OJxPLNmxgt",
        "outputId": "d73e3ee3-0241-45e3-b046-80d5fbd1e01a"
      },
      "execution_count": null,
      "outputs": [
        {
          "output_type": "stream",
          "name": "stdout",
          "text": [
            "0 1\n",
            "1 2\n",
            "3 3\n",
            "6\n"
          ]
        }
      ]
    },
    {
      "cell_type": "code",
      "source": [
        "print(reduce(accumulator,my_list, 10))"
      ],
      "metadata": {
        "colab": {
          "base_uri": "https://localhost:8080/"
        },
        "id": "j53bpEW-qLdM",
        "outputId": "b29a6802-8333-4298-a3dd-6e6010e75ace"
      },
      "execution_count": null,
      "outputs": [
        {
          "output_type": "stream",
          "name": "stdout",
          "text": [
            "10 1\n",
            "11 2\n",
            "13 3\n",
            "16\n"
          ]
        }
      ]
    },
    {
      "cell_type": "markdown",
      "source": [
        "#Lambda Expression\n",
        "\n",
        "one time run -> less readable\n",
        "\n",
        "lambda param: action(param)"
      ],
      "metadata": {
        "id": "_A8a14GOqX0M"
      }
    },
    {
      "cell_type": "code",
      "source": [
        "my_list = [1,2,3]\n",
        "\n",
        "def multiply_by2(item):\n",
        "  return item * 2\n",
        "\n",
        "print(list(map(lambda item: item*2, my_list))) #def is not use"
      ],
      "metadata": {
        "colab": {
          "base_uri": "https://localhost:8080/"
        },
        "id": "sWGQ3t-_qbdl",
        "outputId": "fd711c05-ce34-4522-a34c-5bb63ff43314"
      },
      "execution_count": null,
      "outputs": [
        {
          "output_type": "stream",
          "name": "stdout",
          "text": [
            "[2, 4, 6]\n"
          ]
        }
      ]
    },
    {
      "cell_type": "code",
      "source": [
        "print(list(filter(lambda item: item % 2 != 0, my_list)))"
      ],
      "metadata": {
        "colab": {
          "base_uri": "https://localhost:8080/"
        },
        "id": "_GwFGQk-txve",
        "outputId": "cdf455ea-cbd5-47d8-8a50-e1663c660af2"
      },
      "execution_count": null,
      "outputs": [
        {
          "output_type": "stream",
          "name": "stdout",
          "text": [
            "[1, 3]\n"
          ]
        }
      ]
    },
    {
      "cell_type": "code",
      "source": [
        "print(reduce(lambda acc, item: acc+item, my_list))"
      ],
      "metadata": {
        "colab": {
          "base_uri": "https://localhost:8080/"
        },
        "id": "Qk7xw_r4u-WV",
        "outputId": "0eedd430-27ba-4054-8537-a87c09768bc8"
      },
      "execution_count": null,
      "outputs": [
        {
          "output_type": "stream",
          "name": "stdout",
          "text": [
            "6\n"
          ]
        }
      ]
    },
    {
      "cell_type": "markdown",
      "source": [
        "#Lambda Expression Excercise"
      ],
      "metadata": {
        "id": "8eRZ_zRxvRzd"
      }
    },
    {
      "cell_type": "code",
      "source": [
        "#Square\n",
        "my_list = [5,4,3]\n",
        "new_list = list(map(lambda num: num*2, my_list))\n",
        "print(new_list)\n",
        "\n",
        "#List Sorting\n",
        "a= [(0,2), (4,3), (10,-1), (9,9)]\n",
        "print(a.sort())\n",
        "print(a)\n"
      ],
      "metadata": {
        "id": "N5-gkwnJvQ8N",
        "colab": {
          "base_uri": "https://localhost:8080/"
        },
        "outputId": "0e3814ae-d689-4dac-b928-9a498a85667f"
      },
      "execution_count": 3,
      "outputs": [
        {
          "output_type": "stream",
          "name": "stdout",
          "text": [
            "[10, 8, 6]\n",
            "None\n",
            "[(0, 2), (4, 3), (9, 9), (10, -1)]\n"
          ]
        }
      ]
    },
    {
      "cell_type": "code",
      "source": [
        "#List Sorting\n",
        "a= [(0,2), (4,3), (10,-1), (9,9)]\n",
        "a.sort(key=lambda x:x[1])\n",
        "print(a)"
      ],
      "metadata": {
        "colab": {
          "base_uri": "https://localhost:8080/"
        },
        "id": "IOAtBsTxBYzE",
        "outputId": "98688dbf-7e06-47a9-f8c5-e19002edc8ff"
      },
      "execution_count": 4,
      "outputs": [
        {
          "output_type": "stream",
          "name": "stdout",
          "text": [
            "[(10, -1), (0, 2), (4, 3), (9, 9)]\n"
          ]
        }
      ]
    },
    {
      "cell_type": "markdown",
      "source": [
        "#List Comprehensions"
      ],
      "metadata": {
        "id": "_w2CznNsB2ov"
      }
    },
    {
      "cell_type": "code",
      "source": [
        "#List, set, dictionary\n",
        "\n",
        "#not yet list comprehension\n",
        "my_list = []\n",
        "\n",
        "for char in 'hello':\n",
        "  my_list.append(char)\n",
        "\n",
        "print(my_list)"
      ],
      "metadata": {
        "colab": {
          "base_uri": "https://localhost:8080/"
        },
        "id": "PjnumXDYB58j",
        "outputId": "c27c54dc-6b4f-420b-fac7-34b0c1e90361"
      },
      "execution_count": 5,
      "outputs": [
        {
          "output_type": "stream",
          "name": "stdout",
          "text": [
            "['h', 'e', 'l', 'l', 'o']\n"
          ]
        }
      ]
    },
    {
      "cell_type": "code",
      "source": [
        "#using list comprehension\n",
        "my_list = [char for char in 'hello'] # same as above\n",
        "print(my_list)\n",
        "\n",
        "mylist2 = [num for num in range(0,20)]\n",
        "print(mylist2) #display all num range\n",
        "\n",
        "my_list3 = [num**2 for num in range(0,20)] # raise to two\n",
        "print(my_list3)\n",
        "my_list4 = [num**2 for num in range(0,20)\n",
        "if num % 2 == 0] #only even"
      ],
      "metadata": {
        "colab": {
          "base_uri": "https://localhost:8080/"
        },
        "id": "xgZOsH9xCNBX",
        "outputId": "788441a1-c695-45a4-c8a2-fe2ca741b81c"
      },
      "execution_count": 11,
      "outputs": [
        {
          "output_type": "stream",
          "name": "stdout",
          "text": [
            "['h', 'e', 'l', 'l', 'o']\n",
            "[0, 1, 2, 3, 4, 5, 6, 7, 8, 9, 10, 11, 12, 13, 14, 15, 16, 17, 18, 19]\n",
            "[0, 1, 4, 9, 16, 25, 36, 49, 64, 81, 100, 121, 144, 169, 196, 225, 256, 289, 324, 361]\n"
          ]
        }
      ]
    },
    {
      "cell_type": "markdown",
      "source": [
        "#Set and Dictionary Comprehension"
      ],
      "metadata": {
        "id": "2h6-kL39D5oH"
      }
    },
    {
      "cell_type": "code",
      "source": [
        "#using set comprehension\n",
        "my_list = {char for char in 'hello'} # same as above\n",
        "print(my_list)\n",
        "\n",
        "mylist2 = {num for num in range(0,20)}\n",
        "print(mylist2) #display all num range\n",
        "\n",
        "my_list3 = {num**2 for num in range(0,20)} # raise to two\n",
        "print(my_list3)\n",
        "my_list4 = {num**2 for num in range(0,20)\n",
        "if num % 2 == 0} #only even"
      ],
      "metadata": {
        "colab": {
          "base_uri": "https://localhost:8080/"
        },
        "id": "cmXRs3l3D9T_",
        "outputId": "1acef9e6-0b7d-4c06-a0b0-61cd8f258f51"
      },
      "execution_count": 12,
      "outputs": [
        {
          "output_type": "stream",
          "name": "stdout",
          "text": [
            "{'h', 'l', 'o', 'e'}\n",
            "{0, 1, 2, 3, 4, 5, 6, 7, 8, 9, 10, 11, 12, 13, 14, 15, 16, 17, 18, 19}\n",
            "{0, 1, 256, 4, 9, 16, 144, 25, 289, 36, 169, 49, 64, 196, 324, 81, 225, 100, 361, 121}\n"
          ]
        }
      ]
    },
    {
      "cell_type": "code",
      "source": [
        "#using dictionary\n",
        "simple_dictionary  = {\n",
        "    'a':1,\n",
        "    'b':2\n",
        "}\n",
        "my_dictionary = {key:value**2 for key, value in simple_dictionary.items()}\n",
        "print(my_dictionary)"
      ],
      "metadata": {
        "colab": {
          "base_uri": "https://localhost:8080/"
        },
        "id": "vrTzzdNhEjfs",
        "outputId": "d11959a5-9977-4a89-cac9-4316be69623a"
      },
      "execution_count": 13,
      "outputs": [
        {
          "output_type": "stream",
          "name": "stdout",
          "text": [
            "{'a': 1, 'b': 4}\n"
          ]
        }
      ]
    },
    {
      "cell_type": "code",
      "source": [
        "my_dictionary = {key:value**2 for key, value in simple_dictionary.items()\n",
        "if value%2==0}\n",
        "print(my_dictionary)"
      ],
      "metadata": {
        "colab": {
          "base_uri": "https://localhost:8080/"
        },
        "id": "qu8X0VAjHl4u",
        "outputId": "71e047b2-b3c0-4c59-d245-2d3de7a5108b"
      },
      "execution_count": 14,
      "outputs": [
        {
          "output_type": "stream",
          "name": "stdout",
          "text": [
            "{'b': 4}\n"
          ]
        }
      ]
    },
    {
      "cell_type": "code",
      "source": [
        "my_dictionary = {num:num*2 for num in [1,2,3]}\n",
        "print(my_dictionary)"
      ],
      "metadata": {
        "colab": {
          "base_uri": "https://localhost:8080/"
        },
        "id": "m-MH8-woIX5w",
        "outputId": "256f04ea-f77e-4ad2-b5f1-64807c6842ab"
      },
      "execution_count": 15,
      "outputs": [
        {
          "output_type": "stream",
          "name": "stdout",
          "text": [
            "{1: 2, 2: 4, 3: 6}\n"
          ]
        }
      ]
    },
    {
      "cell_type": "markdown",
      "source": [
        "#Excercise Comprehension"
      ],
      "metadata": {
        "id": "raseL1j0R1h-"
      }
    },
    {
      "cell_type": "code",
      "source": [
        "some_list = ['a', 'b', 'c', 'b', 'd' 'm', 'n', 'n']\n",
        "duplicates = []\n",
        "\n",
        "for value in some_list:\n",
        "  if some_list.count(value) > 1:\n",
        "    if value not in duplicates:\n",
        "       duplicates.append(value)\n",
        "\n",
        "print(duplicates)"
      ],
      "metadata": {
        "colab": {
          "base_uri": "https://localhost:8080/"
        },
        "id": "K7SO9d5_R8M4",
        "outputId": "36c4ab31-c0a5-4f6f-9e31-42998b7a6162"
      },
      "execution_count": 16,
      "outputs": [
        {
          "output_type": "stream",
          "name": "stdout",
          "text": [
            "['b', 'n']\n"
          ]
        }
      ]
    },
    {
      "cell_type": "code",
      "source": [
        "duplicates = set([x for x in some_list if some_list.count(x) > 1])\n",
        "print(duplicates)"
      ],
      "metadata": {
        "colab": {
          "base_uri": "https://localhost:8080/"
        },
        "id": "K_Y83COnS_53",
        "outputId": "82e9c0a4-3ac9-4865-de05-aaf28fe37bf2"
      },
      "execution_count": 18,
      "outputs": [
        {
          "output_type": "stream",
          "name": "stdout",
          "text": [
            "{'b', 'n'}\n"
          ]
        }
      ]
    }
  ]
}